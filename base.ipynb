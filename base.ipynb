{
 "cells": [
  {
   "cell_type": "markdown",
   "id": "2ca72d42",
   "metadata": {},
   "source": [
    "# Setup"
   ]
  },
  {
   "cell_type": "code",
   "execution_count": null,
   "id": "d5d4a06b",
   "metadata": {
    "execution": {
     "iopub.execute_input": "2021-09-28T18:01:32.966428Z",
     "iopub.status.busy": "2021-09-28T18:01:32.966428Z",
     "iopub.status.idle": "2021-09-28T18:01:36.384213Z",
     "shell.execute_reply": "2021-09-28T18:01:36.384213Z"
    }
   },
   "outputs": [],
   "source": [
    "import pymongo\n",
    "import statistics\n",
    "import matplotlib.pyplot as plt\n",
    "import seaborn as sns\n",
    "import numpy as np\n",
    "import pandas as pd\n",
    "from datetime import timedelta\n",
    "from iso8601 import parse_date\n",
    "import csv\n",
    "\n",
    "sns.set_theme(style=\"darkgrid\")\n",
    "\n",
    "season_start = parse_date(\"##########Z\")\n",
    "season_end = parse_date(\"%%%%%%%%%%Z\")\n",
    "\n",
    "client = pymongo.MongoClient()\n",
    "db = client.tpp3\n",
    "collection = db.matches.find({\"finished_at\": {\"$gt\": season_start, \"$lt\": season_end}})\n",
    "data = pd.DataFrame(list(collection))\n",
    "keys = list(data.keys())\n",
    "to_drop = [\"game\",\"avatars\",\"teams\",\"base_metagames\",\"base_gimmicks\"]\n",
    "for i in to_drop:\n",
    "    if i in keys:\n",
    "        data = data.drop([i], axis=1)\n",
    "\n",
    "data.result = pd.to_numeric(data.result, errors=\"coerce\")\n",
    "\n",
    "data[\"duration\"] = data.finished_at - data.started_at\n",
    "data = data.drop([\"started_at\",\"finished_at\",\"created_at\"],axis=1)\n",
    "\n",
    "data[[\"odds\",\"blue_odds\"]] = pd.DataFrame(data.pokeyen_odds.to_list(), index=data.index)\n",
    "data[\"winner_odds\"] = [data.odds[i] if result==1 else data.blue_odds[i] for i,result in enumerate(data[\"result\"])]\n",
    "data = data.drop([\"pokeyen_odds\",\"blue_odds\"],axis=1)\n",
    "\n",
    "data[\"num_bettors\"] = data.pokeyen_bets.str.len() # magic I guess\n",
    "data = data.drop([\"pokeyen_bets\"], axis=1)\n",
    "\n",
    "# TODO there has to be a better way\n",
    "average_bet = []\n",
    "total_bonus = []\n",
    "collection = db.matches.find({\"finished_at\": {\"$gt\": season_start, \"$lt\": season_end}}) # it broke without resetting collection here\n",
    "for i, match in enumerate(collection):\n",
    "    if len(match[\"pokeyen_bets\"]) == 0:\n",
    "        average_bet.append(0.0)\n",
    "        total_bonus.append(0.0)\n",
    "    else:\n",
    "        average_bet.append(statistics.mean(bet[\"amount\"] for bet in match[\"pokeyen_bets\"].values()))\n",
    "        total_bonus.append((sum(bet[\"amount\"]*bet[\"bet_bonus\"]/100 for bet in match[\"pokeyen_bets\"].values()\n",
    "                                if bet[\"team\"] == match[\"result\"] and \"bet_bonus\" in bet)))\n",
    "data[\"average_bet\"] = pd.DataFrame(average_bet)\n",
    "if len(total_bonus) == len(average_bet):\n",
    "    data[\"bet_bonus_amount\"] = pd.DataFrame(total_bonus)\n",
    "del average_bet\n",
    "\n",
    "keys = list(data.keys())\n",
    "should_draw_metagames = \"metagame\" in keys\n",
    "should_draw_gimmicks = \"gimmick\" in keys\n",
    "should_draw_bonus = \"bet_bonus_amount\" in keys\n",
    "\n",
    "\n",
    "\n",
    "nonzero_bets = data[data.average_bet > 0]\n",
    "\n",
    "data.info()\n",
    "data"
   ]
  },
  {
   "cell_type": "markdown",
   "id": "a69353d3",
   "metadata": {},
   "source": [
    "# Highlights "
   ]
  },
  {
   "cell_type": "markdown",
   "id": "98c860e7",
   "metadata": {},
   "source": [
    "### Match with the least bidders"
   ]
  },
  {
   "cell_type": "code",
   "execution_count": null,
   "id": "d2476f0d",
   "metadata": {
    "execution": {
     "iopub.execute_input": "2021-09-28T18:01:36.395223Z",
     "iopub.status.busy": "2021-09-28T18:01:36.394222Z",
     "iopub.status.idle": "2021-09-28T18:01:36.399227Z",
     "shell.execute_reply": "2021-09-28T18:01:36.399227Z"
    }
   },
   "outputs": [],
   "source": [
    "data[data.num_bettors == data.num_bettors.min()]"
   ]
  },
  {
   "cell_type": "markdown",
   "id": "595a9b7b",
   "metadata": {},
   "source": [
    "### Match with the lowest average bet"
   ]
  },
  {
   "cell_type": "code",
   "execution_count": null,
   "id": "936cd54e",
   "metadata": {
    "execution": {
     "iopub.execute_input": "2021-09-28T18:01:36.408235Z",
     "iopub.status.busy": "2021-09-28T18:01:36.408235Z",
     "iopub.status.idle": "2021-09-28T18:01:36.415241Z",
     "shell.execute_reply": "2021-09-28T18:01:36.415241Z"
    },
    "scrolled": true
   },
   "outputs": [],
   "source": [
    "data[data.average_bet == data.average_bet.min()]"
   ]
  },
  {
   "cell_type": "markdown",
   "id": "7964a36a",
   "metadata": {},
   "source": [
    "### Match with the lowest Red odds"
   ]
  },
  {
   "cell_type": "code",
   "execution_count": null,
   "id": "c0e56173",
   "metadata": {
    "execution": {
     "iopub.execute_input": "2021-09-28T18:01:36.425250Z",
     "iopub.status.busy": "2021-09-28T18:01:36.425250Z",
     "iopub.status.idle": "2021-09-28T18:01:36.431256Z",
     "shell.execute_reply": "2021-09-28T18:01:36.431256Z"
    },
    "scrolled": true
   },
   "outputs": [],
   "source": [
    "data[data.odds == data.odds.max()]"
   ]
  },
  {
   "cell_type": "markdown",
   "id": "6f527424",
   "metadata": {},
   "source": [
    "### Match with the most bidders"
   ]
  },
  {
   "cell_type": "code",
   "execution_count": null,
   "id": "a7f6716d",
   "metadata": {
    "execution": {
     "iopub.execute_input": "2021-09-28T18:01:36.441265Z",
     "iopub.status.busy": "2021-09-28T18:01:36.433258Z",
     "iopub.status.idle": "2021-09-28T18:01:36.447271Z",
     "shell.execute_reply": "2021-09-28T18:01:36.447271Z"
    }
   },
   "outputs": [],
   "source": [
    "data[data.num_bettors == data.num_bettors.max()]"
   ]
  },
  {
   "cell_type": "markdown",
   "id": "440647e3",
   "metadata": {},
   "source": [
    "### Match with the highest average bet"
   ]
  },
  {
   "cell_type": "code",
   "execution_count": null,
   "id": "6b2fbe50",
   "metadata": {
    "execution": {
     "iopub.execute_input": "2021-09-28T18:01:36.457281Z",
     "iopub.status.busy": "2021-09-28T18:01:36.457281Z",
     "iopub.status.idle": "2021-09-28T18:01:36.463285Z",
     "shell.execute_reply": "2021-09-28T18:01:36.463285Z"
    }
   },
   "outputs": [],
   "source": [
    "data[data.average_bet == data.average_bet.max()]"
   ]
  },
  {
   "cell_type": "markdown",
   "id": "56d9fb14",
   "metadata": {},
   "source": [
    "### Match with the highest red odds"
   ]
  },
  {
   "cell_type": "code",
   "execution_count": null,
   "id": "7d3e2573",
   "metadata": {
    "execution": {
     "iopub.execute_input": "2021-09-28T18:01:36.473294Z",
     "iopub.status.busy": "2021-09-28T18:01:36.473294Z",
     "iopub.status.idle": "2021-09-28T18:01:36.479299Z",
     "shell.execute_reply": "2021-09-28T18:01:36.479299Z"
    },
    "scrolled": true
   },
   "outputs": [],
   "source": [
    "data[data.odds == data.odds.min()]"
   ]
  },
  {
   "cell_type": "markdown",
   "id": "013a884e",
   "metadata": {},
   "source": [
    "# Data over time"
   ]
  },
  {
   "cell_type": "code",
   "execution_count": null,
   "id": "6ba409f0",
   "metadata": {
    "execution": {
     "iopub.execute_input": "2021-09-28T18:01:36.483304Z",
     "iopub.status.busy": "2021-09-28T18:01:36.482302Z",
     "iopub.status.idle": "2021-09-28T18:01:37.003776Z",
     "shell.execute_reply": "2021-09-28T18:01:37.004777Z"
    }
   },
   "outputs": [],
   "source": [
    "ax = data.plot(y=\"num_bettors\",figsize=(14,7), title=\"Number of bettors over time\")\n",
    "sns.regplot(x=data.index, y=data.num_bettors, scatter=False, ax=ax)\n",
    "# sns.kdeplot(y=data.num_bettors)\n",
    "plt.show()"
   ]
  },
  {
   "cell_type": "code",
   "execution_count": null,
   "id": "a5552bad",
   "metadata": {
    "execution": {
     "iopub.execute_input": "2021-09-28T18:01:37.007780Z",
     "iopub.status.busy": "2021-09-28T18:01:37.007780Z",
     "iopub.status.idle": "2021-09-28T18:01:37.620092Z",
     "shell.execute_reply": "2021-09-28T18:01:37.620092Z"
    }
   },
   "outputs": [],
   "source": [
    "ax = nonzero_bets.plot(y=\"average_bet\", logy=True, figsize=(14,7), title=\"Average bet over time\")\n",
    "sns.regplot(x=nonzero_bets.index, y=nonzero_bets.average_bet, scatter=False, ax=ax)\n",
    "ax.set(ylabel=\"Average bet (logarithmic)\")\n",
    "plt.show()"
   ]
  },
  {
   "cell_type": "code",
   "execution_count": null,
   "id": "6e63a2d4",
   "metadata": {
    "execution": {
     "iopub.execute_input": "2021-09-28T18:01:37.650122Z",
     "iopub.status.busy": "2021-09-28T18:01:37.627101Z",
     "iopub.status.idle": "2021-09-28T18:01:39.384230Z",
     "shell.execute_reply": "2021-09-28T18:01:39.384230Z"
    },
    "scrolled": false
   },
   "outputs": [],
   "source": [
    "def fill_plot():\n",
    "    g.refline(x=x.mean(), linestyle=\":\")\n",
    "    g.refline(x=x.median(), y=y.median(), linestyle=\"-\")\n",
    "    sns.stripplot(x=x, y=y, s=5, ax=g.ax_joint)\n",
    "    sns.kdeplot(x=x, ax=g.ax_marg_x)\n",
    "    sns.kdeplot(y=y, ax=g.ax_marg_y)\n",
    "    plt.xticks(rotation=90)\n",
    "    \n",
    "x, y = nonzero_bets.num_bettors, nonzero_bets.average_bet\n",
    "\n",
    "f = plt.figure()\n",
    "g = sns.JointGrid(x=x, y=y,\n",
    "                   xlim=(nonzero_bets.num_bettors.min()-1,nonzero_bets.num_bettors.max()+1),\n",
    "                   height=10,\n",
    "                  )\n",
    "g.ax_joint.set_yscale(\"log\")\n",
    "fill_plot()\n",
    "\n",
    "median_thresh = y.median() * 2\n",
    "if(y.max() > median_thresh * 10):\n",
    "    f = plt.figure()\n",
    "    g = sns.JointGrid(x=x, y=y,\n",
    "                    xlim=(nonzero_bets.num_bettors.min()-1,nonzero_bets.num_bettors.max()+1),\n",
    "                    height=10,\n",
    "                    ylim=((-0.1*median_thresh),median_thresh)\n",
    "                  )\n",
    "    fill_plot()\n",
    "\n",
    "plt.show()"
   ]
  },
  {
   "cell_type": "code",
   "execution_count": null,
   "id": "1f3d668c",
   "metadata": {
    "execution": {
     "iopub.execute_input": "2021-09-28T18:01:39.400244Z",
     "iopub.status.busy": "2021-09-28T18:01:39.389235Z",
     "iopub.status.idle": "2021-09-28T18:01:39.592418Z",
     "shell.execute_reply": "2021-09-28T18:01:39.592418Z"
    }
   },
   "outputs": [],
   "source": [
    "if should_draw_metagames:\n",
    "    f = plt.figure(figsize=(10,7))\n",
    "    f.suptitle(\"When each metagame was played\")\n",
    "    ax = sns.scatterplot(x=data.index,y=data.metagame)\n",
    "    ax.set(xlabel=\"Match #\")\n",
    "    plt.show()\n",
    "else:\n",
    "    print(\"No metagames this season :(\")"
   ]
  },
  {
   "cell_type": "markdown",
   "id": "9a3e6a94",
   "metadata": {},
   "source": [
    "# Metagames"
   ]
  },
  {
   "cell_type": "markdown",
   "id": "ae57699b",
   "metadata": {},
   "source": [
    "## Setup"
   ]
  },
  {
   "cell_type": "code",
   "execution_count": null,
   "id": "36b48269",
   "metadata": {
    "execution": {
     "iopub.execute_input": "2021-09-28T18:01:39.597424Z",
     "iopub.status.busy": "2021-09-28T18:01:39.596423Z",
     "iopub.status.idle": "2021-09-28T18:01:39.608433Z",
     "shell.execute_reply": "2021-09-28T18:01:39.608433Z"
    }
   },
   "outputs": [],
   "source": [
    "if should_draw_metagames:\n",
    "    threshold = 0.005 * data.index.max() # remove metagames that appear less than this amount of times, since they are likely token matches\n",
    "    meta = nonzero_bets[nonzero_bets.groupby(\"metagame\").metagame.transform(\"count\") > threshold]\n",
    "    metagames = nonzero_bets.metagame.unique().tolist()\n",
    "    for m in meta.metagame.unique().tolist():\n",
    "        metagames.remove(m)\n",
    "    print(\"removed very rare metagames: \" + str(metagames))"
   ]
  },
  {
   "cell_type": "code",
   "execution_count": null,
   "id": "1a34902c",
   "metadata": {
    "execution": {
     "iopub.execute_input": "2021-09-28T18:01:39.613437Z",
     "iopub.status.busy": "2021-09-28T18:01:39.613437Z",
     "iopub.status.idle": "2021-09-28T18:01:39.960754Z",
     "shell.execute_reply": "2021-09-28T18:01:39.960754Z"
    }
   },
   "outputs": [],
   "source": [
    "if should_draw_metagames:\n",
    "    f = plt.figure(figsize=(len(meta.metagame.unique())/2.5,5))\n",
    "    f.suptitle(\"Number of people betting on each metagame\")\n",
    "    sns.boxplot(x=meta.metagame, y=meta.num_bettors)\n",
    "    plt.xticks(rotation=90)\n",
    "    plt.show()"
   ]
  },
  {
   "cell_type": "code",
   "execution_count": null,
   "id": "fd450fc4",
   "metadata": {
    "execution": {
     "iopub.execute_input": "2021-09-28T18:01:39.965759Z",
     "iopub.status.busy": "2021-09-28T18:01:39.964758Z",
     "iopub.status.idle": "2021-09-28T18:01:40.374129Z",
     "shell.execute_reply": "2021-09-28T18:01:40.374129Z"
    }
   },
   "outputs": [],
   "source": [
    "if should_draw_metagames:\n",
    "    f = plt.figure(figsize=(len(meta.metagame.unique())/2.5,5))\n",
    "    f.suptitle(\"Average bet on each metagame\")\n",
    "    ax = sns.boxplot(x=meta.metagame,y=meta.average_bet)\n",
    "    ax.set(yscale=\"log\", ylabel=\"Average bet (logarithmic)\")\n",
    "    plt.xticks(rotation=90)\n",
    "    plt.show()"
   ]
  },
  {
   "cell_type": "markdown",
   "id": "8bc95499",
   "metadata": {},
   "source": [
    "# Gimmicks"
   ]
  },
  {
   "cell_type": "markdown",
   "id": "a30c8587",
   "metadata": {},
   "source": [
    "## Setup"
   ]
  },
  {
   "cell_type": "code",
   "execution_count": null,
   "id": "950cacd7",
   "metadata": {
    "execution": {
     "iopub.execute_input": "2021-09-28T18:01:40.379135Z",
     "iopub.status.busy": "2021-09-28T18:01:40.379135Z",
     "iopub.status.idle": "2021-09-28T18:01:40.390143Z",
     "shell.execute_reply": "2021-09-28T18:01:40.390143Z"
    }
   },
   "outputs": [],
   "source": [
    "if should_draw_gimmicks:\n",
    "    threshold_gim = 5 # absolute minimum amount of data we need to make any meaningful insight\n",
    "    gim = nonzero_bets[nonzero_bets.groupby(\"gimmick\").gimmick.transform(\"count\") > threshold_gim]\n",
    "    gimmicks = data.gimmick.unique().tolist()\n",
    "    for g in gim.gimmick.unique().tolist():\n",
    "        gimmicks.remove(g)\n",
    "    print(\"removed infrequently used gimmicks: \" + str(gimmicks))\n",
    "else:\n",
    "    print(\"no gimmicks this season :(\")"
   ]
  },
  {
   "cell_type": "code",
   "execution_count": null,
   "id": "b08a3219",
   "metadata": {
    "execution": {
     "iopub.execute_input": "2021-09-28T18:01:40.395149Z",
     "iopub.status.busy": "2021-09-28T18:01:40.393146Z",
     "iopub.status.idle": "2021-09-28T18:01:41.042736Z",
     "shell.execute_reply": "2021-09-28T18:01:41.042736Z"
    }
   },
   "outputs": [],
   "source": [
    "if should_draw_gimmicks:\n",
    "    f = plt.figure(figsize=(len(gim.gimmick.unique())/2.5,5))\n",
    "    f.suptitle(\"Number of people betting on each gimmick\")\n",
    "    sns.boxplot(x=\"gimmick\",y=\"num_bettors\",data=gim)\n",
    "    plt.xticks(rotation=90)\n",
    "    plt.show()"
   ]
  },
  {
   "cell_type": "code",
   "execution_count": null,
   "id": "dfaa2a65",
   "metadata": {
    "execution": {
     "iopub.execute_input": "2021-09-28T18:01:41.046740Z",
     "iopub.status.busy": "2021-09-28T18:01:41.046740Z",
     "iopub.status.idle": "2021-09-28T18:01:41.960570Z",
     "shell.execute_reply": "2021-09-28T18:01:41.960570Z"
    },
    "scrolled": false
   },
   "outputs": [],
   "source": [
    "if should_draw_gimmicks:\n",
    "    f = plt.figure(figsize=(len(gim.gimmick.unique())/2.5,5))\n",
    "    f.suptitle(\"Average Amount bet on each gimmick\")\n",
    "    ax = sns.boxplot(x=gim.gimmick, y=gim.average_bet)\n",
    "    ax.set(yscale=\"log\", ylabel=\"Average Amount bet (logarithmic)\")\n",
    "    plt.xticks(rotation=90)\n",
    "    plt.show()"
   ]
  },
  {
   "cell_type": "markdown",
   "id": "e1845a6d",
   "metadata": {},
   "source": [
    "# Switching"
   ]
  },
  {
   "cell_type": "code",
   "execution_count": null,
   "id": "5de3ebb6",
   "metadata": {
    "execution": {
     "iopub.execute_input": "2021-09-28T18:01:41.964575Z",
     "iopub.status.busy": "2021-09-28T18:01:41.964575Z",
     "iopub.status.idle": "2021-09-28T18:01:42.070671Z",
     "shell.execute_reply": "2021-09-28T18:01:42.070671Z"
    }
   },
   "outputs": [],
   "source": [
    "sns.boxplot(x=data.switching,y=data.num_bettors)\n",
    "plt.show()"
   ]
  },
  {
   "cell_type": "code",
   "execution_count": null,
   "id": "80a9fab9",
   "metadata": {
    "execution": {
     "iopub.execute_input": "2021-09-28T18:01:42.075676Z",
     "iopub.status.busy": "2021-09-28T18:01:42.074676Z",
     "iopub.status.idle": "2021-09-28T18:01:42.354929Z",
     "shell.execute_reply": "2021-09-28T18:01:42.354929Z"
    }
   },
   "outputs": [],
   "source": [
    "ax = sns.boxplot(x=data.switching,y=data.average_bet)\n",
    "ax.set(yscale=\"log\", ylabel=\"Average bet (logarithmic)\")\n",
    "plt.show()"
   ]
  },
  {
   "cell_type": "markdown",
   "id": "70564c43",
   "metadata": {},
   "source": [
    "# Odds vs winner\n",
    "lower odds(<1) indicate more people bet on team 0 (probably red?), while higher(>1) odds indicate more people bet on team 1 (probably blue) "
   ]
  },
  {
   "cell_type": "code",
   "execution_count": null,
   "id": "185e3ea5",
   "metadata": {
    "execution": {
     "iopub.execute_input": "2021-09-28T18:01:42.359934Z",
     "iopub.status.busy": "2021-09-28T18:01:42.358934Z",
     "iopub.status.idle": "2021-09-28T18:01:42.626176Z",
     "shell.execute_reply": "2021-09-28T18:01:42.626176Z"
    },
    "scrolled": false
   },
   "outputs": [],
   "source": [
    "# remove entries where bets are all on 1 team\n",
    "nonzero_bets = nonzero_bets[nonzero_bets.odds > 0.00001]\n",
    "\n",
    "auto_matches = nonzero_bets[nonzero_bets.custom == False]\n",
    "bid_matches = nonzero_bets[nonzero_bets.custom == True]\n",
    "\n",
    "f, ax = plt.subplots(1, 2, figsize=(10,7),sharey=True)\n",
    "f.suptitle(\"Odds vs Winner\")\n",
    "ax[0].set(yscale=\"log\", title=\"random matches\")\n",
    "ax[1].set(title=\"bid matches\")\n",
    "\n",
    "sns.boxplot(x=auto_matches.result,y=auto_matches.odds, ax=ax[0])\n",
    "sns.boxplot(x=bid_matches.result,y=bid_matches.odds)\n",
    "\n",
    "plt.show()"
   ]
  },
  {
   "cell_type": "markdown",
   "id": "9132979f",
   "metadata": {},
   "source": [
    "# Bet bonus"
   ]
  },
  {
   "cell_type": "code",
   "execution_count": null,
   "id": "4f354f5b",
   "metadata": {
    "execution": {
     "iopub.execute_input": "2021-09-28T18:01:42.633182Z",
     "iopub.status.busy": "2021-09-28T18:01:42.633182Z",
     "iopub.status.idle": "2021-09-28T18:01:42.642190Z",
     "shell.execute_reply": "2021-09-28T18:01:42.642190Z"
    },
    "scrolled": false
   },
   "outputs": [],
   "source": [
    "if should_draw_bonus:\n",
    "    should_draw_random_graph = auto_matches.bet_bonus_amount.mean() > 0\n",
    "    should_draw_custom_graph = bid_matches.bet_bonus_amount.mean() > 0\n",
    "    graphs_to_draw = should_draw_random_graph + should_draw_custom_graph\n",
    "    if graphs_to_draw > 0:\n",
    "        i = 0\n",
    "\n",
    "        f, ax = plt.subplots(graphs_to_draw, 1, figsize=(10,7),sharey=True)\n",
    "        f.suptitle(\"Pokeyen injected from bet bonus\")\n",
    "\n",
    "        if should_draw_random_graph:\n",
    "            if graphs_to_draw > 1:\n",
    "                ax[i].set(yscale=\"log\", title=\"random matches\")\n",
    "                sns.regplot(x=auto_matches.index,y=auto_matches.bet_bonus_amount, ax=ax[i])\n",
    "                ax[i].set(ylabel=\"Pokeyen gained from bet bonus\")\n",
    "                i+=1\n",
    "            else:\n",
    "                ax.set(yscale=\"log\", title=\"random matches\")\n",
    "                sns.regplot(x=auto_matches.index,y=auto_matches.bet_bonus_amount, ax=ax)\n",
    "                ax.set(ylabel=\"Pokeyen gained from bet bonus\")\n",
    "        else:\n",
    "            print(\"random matches had no bet bonus, skipping drawing graph\")\n",
    "\n",
    "        if should_draw_custom_graph:\n",
    "            if graphs_to_draw > 1:\n",
    "                ax[i].set(yscale=\"log\", title=\"bid matches\")\n",
    "                sns.regplot(x=bid_matches.index,y=bid_matches.bet_bonus_amount, ax=ax[i])\n",
    "                ax[i].set(ylabel=\"Pokeyen gained from bet bonus\")\n",
    "            else:\n",
    "                ax.set(yscale=\"log\", title=\"bid matches\")\n",
    "                sns.regplot(x=bid_matches.index,y=bid_matches.bet_bonus_amount, ax=ax)\n",
    "                ax.set(ylabel=\"Pokeyen gained from bet bonus\")\n",
    "        else:\n",
    "            print(\"bid matches had no bet bonus, skipping drawing graph\")\n",
    "\n",
    "        plt.show()"
   ]
  },
  {
   "cell_type": "markdown",
   "id": "3dca3cd5",
   "metadata": {},
   "source": [
    "# Match predictability"
   ]
  },
  {
   "cell_type": "code",
   "execution_count": null,
   "id": "d148fd64",
   "metadata": {
    "execution": {
     "iopub.execute_input": "2021-09-28T18:01:42.648196Z",
     "iopub.status.busy": "2021-09-28T18:01:42.646194Z",
     "iopub.status.idle": "2021-09-28T18:01:43.388869Z",
     "shell.execute_reply": "2021-09-28T18:01:43.388869Z"
    }
   },
   "outputs": [],
   "source": [
    "if should_draw_metagames:\n",
    "    f = plt.figure(figsize=(len(meta.metagame.unique())/2,5))\n",
    "    f.suptitle(\"Winning odds on each metagame\")\n",
    "    ax = sns.boxplot(x=meta.metagame,y=meta.winner_odds, hue=meta.custom)\n",
    "    ax.set(ylabel=\"the winning team's odds\", ylim=(0,10))\n",
    "    plt.xticks(rotation=90)\n",
    "    plt.show()"
   ]
  },
  {
   "cell_type": "code",
   "execution_count": null,
   "id": "9d3d0156",
   "metadata": {
    "execution": {
     "iopub.execute_input": "2021-09-28T18:01:43.394875Z",
     "iopub.status.busy": "2021-09-28T18:01:43.392873Z",
     "iopub.status.idle": "2021-09-28T18:01:45.128229Z",
     "shell.execute_reply": "2021-09-28T18:01:45.127229Z"
    }
   },
   "outputs": [],
   "source": [
    "if should_draw_gimmicks:\n",
    "    f = plt.figure(figsize=(len(gim.gimmick.unique())/2.5,5))\n",
    "    f.suptitle(\"Winning odds on each gimmick\")\n",
    "    ax = sns.boxplot(x=gim.gimmick,y=gim.winner_odds, hue=gim.custom)\n",
    "    ax.set(ylabel=\"the winning team's odds\", ylim=(0,10))\n",
    "    plt.xticks(rotation=90)\n",
    "    plt.show()"
   ]
  },
  {
   "cell_type": "markdown",
   "id": "e2142e16",
   "metadata": {},
   "source": [
    "# Bet Rankings"
   ]
  },
  {
   "cell_type": "code",
   "execution_count": null,
   "id": "b1b078ca",
   "metadata": {},
   "outputs": [],
   "source": [
    "season = %SEASON%\n",
    "rankings_collection = db.pokeyen_bet_rankings.find({\"season\": season})\n",
    "id_to_name_csv = \"%CSVPATH%\"\n",
    "\n",
    "id_to_name_dict: dict\n",
    "with open(id_to_name_csv, mode=\"r\") as infile:\n",
    "    reader = csv.reader(infile)\n",
    "    id_to_name_dict = {rows[0]: rows[1] for rows in reader}\n",
    "    \n",
    "ranking = []\n",
    "for i, a in enumerate(rankings_collection):\n",
    "    for b in a[\"ranking\"]:\n",
    "        ranking.append([i,b[0],  id_to_name_dict[b[1]], b[2]])\n",
    "        \n",
    "rankings = pd.DataFrame(ranking, columns=[\"match\", \"rank\", \"user_id\", \"pokeyen\"])"
   ]
  },
  {
   "cell_type": "code",
   "execution_count": null,
   "id": "f929ce05",
   "metadata": {},
   "outputs": [],
   "source": [
    "f = plt.figure(figsize=(15,10))\n",
    "f.suptitle(\"Total pokeyen in economy\")\n",
    "total_yen = []\n",
    "for match in rankings.match.unique():\n",
    "    total_yen.append(rankings[rankings.match == match].pokeyen.sum())\n",
    "ax = sns.lineplot(data=total_yen)\n",
    "plt.show()"
   ]
  },
  {
   "cell_type": "code",
   "execution_count": null,
   "id": "b30d3d79",
   "metadata": {},
   "outputs": [],
   "source": [
    "f = plt.figure(figsize=(15,10))\n",
    "f.suptitle(\"Average pokeyen per user\")\n",
    "ax = sns.lineplot(x=rankings.match, y=rankings.pokeyen)\n",
    "plt.show()"
   ]
  },
  {
   "cell_type": "code",
   "execution_count": null,
   "id": "1a236a95",
   "metadata": {},
   "outputs": [],
   "source": [
    "f = plt.figure(figsize=(15,10))\n",
    "f.suptitle(\"Pokeyen owned by rank 1\")\n",
    "leader_yen = []\n",
    "for match in rankings.match.unique():\n",
    "    leader_yen.append(rankings[rankings.match == match].pokeyen.max())\n",
    "ax = sns.lineplot(data=leader_yen)\n",
    "plt.show()"
   ]
  },
  {
   "cell_type": "code",
   "execution_count": null,
   "id": "3229efe7",
   "metadata": {},
   "outputs": [],
   "source": [
    "last_match = rankings[rankings.match == rankings.match.max()]\n",
    "leader_ids = last_match.sort_values(\"pokeyen\").tail(5).user_id.unique()\n",
    "\n",
    "f = plt.figure(figsize=(15,10))\n",
    "f.suptitle(\"Pokeyen of the final top 5\")\n",
    "top5 = rankings[rankings.user_id.isin(leader_ids)]\n",
    "\n",
    "ax = sns.lineplot(x=top5.match, y=top5.pokeyen, hue=top5.user_id)\n",
    "plt.show()"
   ]
  }
 ],
 "metadata": {
  "kernelspec": {
   "display_name": "Python 3 (ipykernel)",
   "language": "python",
   "name": "python3"
  },
  "language_info": {
   "codemirror_mode": {
    "name": "ipython",
    "version": 3
   },
   "file_extension": ".py",
   "mimetype": "text/x-python",
   "name": "python",
   "nbconvert_exporter": "python",
   "pygments_lexer": "ipython3",
   "version": "3.9.7"
  }
 },
 "nbformat": 4,
 "nbformat_minor": 5
}
