{
 "cells": [
  {
   "cell_type": "markdown",
   "source": [
    "# Setup"
   ],
   "metadata": {}
  },
  {
   "cell_type": "code",
   "execution_count": null,
   "source": [
    "import pymongo\r\n",
    "import statistics\r\n",
    "import matplotlib.pyplot as plt\r\n",
    "import seaborn as sns\r\n",
    "import numpy as np\r\n",
    "import pandas as pd\r\n",
    "from datetime import timedelta\r\n",
    "from iso8601 import parse_date\r\n",
    "import csv\r\n",
    "\r\n",
    "sns.set_theme(style=\"darkgrid\")\r\n",
    "\r\n",
    "season_start = parse_date(\"##########Z\")\r\n",
    "season_end = parse_date(\"%%%%%%%%%%Z\")\r\n",
    "\r\n",
    "client = pymongo.MongoClient()\r\n",
    "db = client.tpp3\r\n",
    "collection = db.matches.find({\"finished_at\": {\"$gt\": season_start, \"$lt\": season_end}})\r\n",
    "data = pd.DataFrame(list(collection))\r\n",
    "keys = list(data.keys())\r\n",
    "to_drop = [\"game\",\"avatars\",\"teams\",\"base_metagames\",\"base_gimmicks\"]\r\n",
    "for i in to_drop:\r\n",
    "    if i in keys:\r\n",
    "        data = data.drop([i], axis=1)\r\n",
    "\r\n",
    "data.result = pd.to_numeric(data.result, errors=\"coerce\")\r\n",
    "\r\n",
    "data[\"duration\"] = data.finished_at - data.started_at\r\n",
    "data = data.drop([\"started_at\",\"finished_at\",\"created_at\"],axis=1)\r\n",
    "\r\n",
    "data[[\"odds\",\"blue_odds\"]] = pd.DataFrame(data.pokeyen_odds.to_list(), index=data.index)\r\n",
    "data[\"winner_odds\"] = [data.odds[i] if result==1 else data.blue_odds[i] for i,result in enumerate(data[\"result\"])]\r\n",
    "data = data.drop([\"pokeyen_odds\",\"blue_odds\"],axis=1)\r\n",
    "\r\n",
    "data[\"num_bettors\"] = data.pokeyen_bets.str.len() # magic I guess\r\n",
    "data = data.drop([\"pokeyen_bets\"], axis=1)\r\n",
    "\r\n",
    "# TODO there has to be a better way\r\n",
    "average_bet = []\r\n",
    "total_bonus = []\r\n",
    "collection = db.matches.find({\"finished_at\": {\"$gt\": season_start, \"$lt\": season_end}}) # it broke without resetting collection here\r\n",
    "for i, match in enumerate(collection):\r\n",
    "    if len(match[\"pokeyen_bets\"]) == 0:\r\n",
    "        average_bet.append(0.0)\r\n",
    "        total_bonus.append(0.0)\r\n",
    "    else:\r\n",
    "        average_bet.append(statistics.mean(bet[\"amount\"] for bet in match[\"pokeyen_bets\"].values()))\r\n",
    "        total_bonus.append((sum(bet[\"amount\"]*bet[\"bet_bonus\"]/100 for bet in match[\"pokeyen_bets\"].values()\r\n",
    "                                if bet[\"team\"] == match[\"result\"] and \"bet_bonus\" in bet)))\r\n",
    "data[\"average_bet\"] = pd.DataFrame(average_bet)\r\n",
    "if len(total_bonus) == len(average_bet):\r\n",
    "    data[\"bet_bonus_amount\"] = pd.DataFrame(total_bonus)\r\n",
    "del average_bet\r\n",
    "\r\n",
    "keys = list(data.keys())\r\n",
    "should_draw_metagames = \"metagame\" in keys\r\n",
    "should_draw_gimmicks = \"gimmick\" in keys\r\n",
    "should_draw_bonus = \"bet_bonus_amount\" in keys\r\n",
    "\r\n",
    "\r\n",
    "\r\n",
    "nonzero_bets = data[data.average_bet > 0]\r\n",
    "\r\n",
    "data.info()\r\n",
    "data"
   ],
   "outputs": [],
   "metadata": {
    "execution": {
     "iopub.execute_input": "2021-09-28T18:01:32.966428Z",
     "iopub.status.busy": "2021-09-28T18:01:32.966428Z",
     "iopub.status.idle": "2021-09-28T18:01:36.384213Z",
     "shell.execute_reply": "2021-09-28T18:01:36.384213Z"
    }
   }
  },
  {
   "cell_type": "markdown",
   "source": [
    "# Highlights "
   ],
   "metadata": {}
  },
  {
   "cell_type": "markdown",
   "source": [
    "### Match with the least bidders"
   ],
   "metadata": {}
  },
  {
   "cell_type": "code",
   "execution_count": null,
   "source": [
    "data[data.num_bettors == data.num_bettors.min()]"
   ],
   "outputs": [],
   "metadata": {
    "execution": {
     "iopub.execute_input": "2021-09-28T18:01:36.395223Z",
     "iopub.status.busy": "2021-09-28T18:01:36.394222Z",
     "iopub.status.idle": "2021-09-28T18:01:36.399227Z",
     "shell.execute_reply": "2021-09-28T18:01:36.399227Z"
    }
   }
  },
  {
   "cell_type": "markdown",
   "source": [
    "### Match with the lowest average bet"
   ],
   "metadata": {}
  },
  {
   "cell_type": "code",
   "execution_count": null,
   "source": [
    "data[data.average_bet == data.average_bet.min()]"
   ],
   "outputs": [],
   "metadata": {
    "execution": {
     "iopub.execute_input": "2021-09-28T18:01:36.408235Z",
     "iopub.status.busy": "2021-09-28T18:01:36.408235Z",
     "iopub.status.idle": "2021-09-28T18:01:36.415241Z",
     "shell.execute_reply": "2021-09-28T18:01:36.415241Z"
    },
    "scrolled": true
   }
  },
  {
   "cell_type": "markdown",
   "source": [
    "### Match with the lowest Red odds"
   ],
   "metadata": {}
  },
  {
   "cell_type": "code",
   "execution_count": null,
   "source": [
    "data[data.odds == data.odds.max()]"
   ],
   "outputs": [],
   "metadata": {
    "execution": {
     "iopub.execute_input": "2021-09-28T18:01:36.425250Z",
     "iopub.status.busy": "2021-09-28T18:01:36.425250Z",
     "iopub.status.idle": "2021-09-28T18:01:36.431256Z",
     "shell.execute_reply": "2021-09-28T18:01:36.431256Z"
    },
    "scrolled": true
   }
  },
  {
   "cell_type": "markdown",
   "source": [
    "### Match with the most bidders"
   ],
   "metadata": {}
  },
  {
   "cell_type": "code",
   "execution_count": null,
   "source": [
    "data[data.num_bettors == data.num_bettors.max()]"
   ],
   "outputs": [],
   "metadata": {
    "execution": {
     "iopub.execute_input": "2021-09-28T18:01:36.441265Z",
     "iopub.status.busy": "2021-09-28T18:01:36.433258Z",
     "iopub.status.idle": "2021-09-28T18:01:36.447271Z",
     "shell.execute_reply": "2021-09-28T18:01:36.447271Z"
    }
   }
  },
  {
   "cell_type": "markdown",
   "source": [
    "### Match with the highest average bet"
   ],
   "metadata": {}
  },
  {
   "cell_type": "code",
   "execution_count": null,
   "source": [
    "data[data.average_bet == data.average_bet.max()]"
   ],
   "outputs": [],
   "metadata": {
    "execution": {
     "iopub.execute_input": "2021-09-28T18:01:36.457281Z",
     "iopub.status.busy": "2021-09-28T18:01:36.457281Z",
     "iopub.status.idle": "2021-09-28T18:01:36.463285Z",
     "shell.execute_reply": "2021-09-28T18:01:36.463285Z"
    }
   }
  },
  {
   "cell_type": "markdown",
   "source": [
    "### Match with the highest red odds"
   ],
   "metadata": {}
  },
  {
   "cell_type": "code",
   "execution_count": null,
   "source": [
    "data[data.odds == data.odds.min()]"
   ],
   "outputs": [],
   "metadata": {
    "execution": {
     "iopub.execute_input": "2021-09-28T18:01:36.473294Z",
     "iopub.status.busy": "2021-09-28T18:01:36.473294Z",
     "iopub.status.idle": "2021-09-28T18:01:36.479299Z",
     "shell.execute_reply": "2021-09-28T18:01:36.479299Z"
    },
    "scrolled": true
   }
  },
  {
   "cell_type": "markdown",
   "source": [
    "# Data over time"
   ],
   "metadata": {}
  },
  {
   "cell_type": "code",
   "execution_count": null,
   "source": [
    "ax = data.plot(y=\"num_bettors\",figsize=(14,7), title=\"Number of bettors over time\")\r\n",
    "sns.regplot(x=data.index, y=data.num_bettors, scatter=False, ax=ax)\r\n",
    "# sns.kdeplot(y=data.num_bettors)\r\n",
    "plt.show()"
   ],
   "outputs": [],
   "metadata": {
    "execution": {
     "iopub.execute_input": "2021-09-28T18:01:36.483304Z",
     "iopub.status.busy": "2021-09-28T18:01:36.482302Z",
     "iopub.status.idle": "2021-09-28T18:01:37.003776Z",
     "shell.execute_reply": "2021-09-28T18:01:37.004777Z"
    }
   }
  },
  {
   "cell_type": "code",
   "execution_count": null,
   "source": [
    "ax = nonzero_bets.plot(y=\"average_bet\", logy=True, figsize=(14,7), title=\"Average bet over time\")\r\n",
    "sns.regplot(x=nonzero_bets.index, y=nonzero_bets.average_bet, scatter=False, ax=ax)\r\n",
    "ax.set(ylabel=\"Average bet (logarithmic)\")\r\n",
    "plt.show()"
   ],
   "outputs": [],
   "metadata": {
    "execution": {
     "iopub.execute_input": "2021-09-28T18:01:37.007780Z",
     "iopub.status.busy": "2021-09-28T18:01:37.007780Z",
     "iopub.status.idle": "2021-09-28T18:01:37.620092Z",
     "shell.execute_reply": "2021-09-28T18:01:37.620092Z"
    }
   }
  },
  {
   "cell_type": "code",
   "execution_count": null,
   "source": [
    "def fill_plot():\r\n",
    "    g.refline(x=x.mean(), linestyle=\":\")\r\n",
    "    g.refline(x=x.median(), y=y.median(), linestyle=\"-\")\r\n",
    "    sns.stripplot(x=x, y=y, s=5, ax=g.ax_joint)\r\n",
    "    sns.kdeplot(x=x, ax=g.ax_marg_x)\r\n",
    "    sns.kdeplot(y=y, ax=g.ax_marg_y)\r\n",
    "    plt.xticks(rotation=90)\r\n",
    "    \r\n",
    "x, y = nonzero_bets.num_bettors, nonzero_bets.average_bet\r\n",
    "\r\n",
    "f = plt.figure()\r\n",
    "g = sns.JointGrid(x=x, y=y,\r\n",
    "                   xlim=(nonzero_bets.num_bettors.min()-1,nonzero_bets.num_bettors.max()+1),\r\n",
    "                   height=10,\r\n",
    "                  )\r\n",
    "g.ax_joint.set_yscale(\"log\")\r\n",
    "fill_plot()\r\n",
    "\r\n",
    "median_thresh = y.median() * 2\r\n",
    "if(y.max() > median_thresh * 10):\r\n",
    "    f = plt.figure()\r\n",
    "    g = sns.JointGrid(x=x, y=y,\r\n",
    "                    xlim=(nonzero_bets.num_bettors.min()-1,nonzero_bets.num_bettors.max()+1),\r\n",
    "                    height=10,\r\n",
    "                    ylim=((-0.1*median_thresh),median_thresh)\r\n",
    "                  )\r\n",
    "    fill_plot()\r\n",
    "\r\n",
    "plt.show()"
   ],
   "outputs": [],
   "metadata": {
    "execution": {
     "iopub.execute_input": "2021-09-28T18:01:37.650122Z",
     "iopub.status.busy": "2021-09-28T18:01:37.627101Z",
     "iopub.status.idle": "2021-09-28T18:01:39.384230Z",
     "shell.execute_reply": "2021-09-28T18:01:39.384230Z"
    },
    "scrolled": false
   }
  },
  {
   "cell_type": "code",
   "execution_count": null,
   "source": [
    "if should_draw_metagames:\r\n",
    "    f = plt.figure(figsize=(10,7))\r\n",
    "    f.suptitle(\"When each metagame was played\")\r\n",
    "    ax = sns.scatterplot(x=data.index,y=data.metagame)\r\n",
    "    ax.set(xlabel=\"Match #\")\r\n",
    "    plt.show()\r\n",
    "else:\r\n",
    "    print(\"No metagames this season :(\")"
   ],
   "outputs": [],
   "metadata": {
    "execution": {
     "iopub.execute_input": "2021-09-28T18:01:39.400244Z",
     "iopub.status.busy": "2021-09-28T18:01:39.389235Z",
     "iopub.status.idle": "2021-09-28T18:01:39.592418Z",
     "shell.execute_reply": "2021-09-28T18:01:39.592418Z"
    }
   }
  },
  {
   "cell_type": "markdown",
   "source": [
    "# Metagames"
   ],
   "metadata": {}
  },
  {
   "cell_type": "markdown",
   "source": [
    "## Setup"
   ],
   "metadata": {}
  },
  {
   "cell_type": "code",
   "execution_count": null,
   "source": [
    "if should_draw_metagames:\n",
    "    threshold = 0.005 * data.index.max() # remove metagames that appear less than this amount of times, since they are likely token matches\n",
    "    meta = nonzero_bets[nonzero_bets.groupby(\"metagame\").metagame.transform(\"count\") > threshold]\n",
    "    metagames = nonzero_bets.metagame.unique().tolist()\n",
    "    for m in meta.metagame.unique().tolist():\n",
    "        metagames.remove(m)\n",
    "    print(\"removed very rare metagames: \" + str(metagames))"
   ],
   "outputs": [],
   "metadata": {
    "execution": {
     "iopub.execute_input": "2021-09-28T18:01:39.597424Z",
     "iopub.status.busy": "2021-09-28T18:01:39.596423Z",
     "iopub.status.idle": "2021-09-28T18:01:39.608433Z",
     "shell.execute_reply": "2021-09-28T18:01:39.608433Z"
    }
   }
  },
  {
   "cell_type": "code",
   "execution_count": null,
   "source": [
    "if should_draw_metagames:\n",
    "    f = plt.figure(figsize=(len(meta.metagame.unique())/2.5,5))\n",
    "    f.suptitle(\"Number of people betting on each metagame\")\n",
    "    sns.boxplot(x=meta.metagame, y=meta.num_bettors)\n",
    "    plt.xticks(rotation=90)\n",
    "    plt.show()"
   ],
   "outputs": [],
   "metadata": {
    "execution": {
     "iopub.execute_input": "2021-09-28T18:01:39.613437Z",
     "iopub.status.busy": "2021-09-28T18:01:39.613437Z",
     "iopub.status.idle": "2021-09-28T18:01:39.960754Z",
     "shell.execute_reply": "2021-09-28T18:01:39.960754Z"
    }
   }
  },
  {
   "cell_type": "code",
   "execution_count": null,
   "source": [
    "if should_draw_metagames:\n",
    "    f = plt.figure(figsize=(len(meta.metagame.unique())/2.5,5))\n",
    "    f.suptitle(\"Average bet on each metagame\")\n",
    "    ax = sns.boxplot(x=meta.metagame,y=meta.average_bet)\n",
    "    ax.set(yscale=\"log\", ylabel=\"Average bet (logarithmic)\")\n",
    "    plt.xticks(rotation=90)\n",
    "    plt.show()"
   ],
   "outputs": [],
   "metadata": {
    "execution": {
     "iopub.execute_input": "2021-09-28T18:01:39.965759Z",
     "iopub.status.busy": "2021-09-28T18:01:39.964758Z",
     "iopub.status.idle": "2021-09-28T18:01:40.374129Z",
     "shell.execute_reply": "2021-09-28T18:01:40.374129Z"
    }
   }
  },
  {
   "cell_type": "markdown",
   "source": [
    "# Gimmicks"
   ],
   "metadata": {}
  },
  {
   "cell_type": "markdown",
   "source": [
    "## Setup"
   ],
   "metadata": {}
  },
  {
   "cell_type": "code",
   "execution_count": null,
   "source": [
    "if should_draw_gimmicks:\r\n",
    "    threshold_gim = 5 # absolute minimum amount of data we need to make any meaningful insight\r\n",
    "    gim = nonzero_bets[nonzero_bets.groupby(\"gimmick\").gimmick.transform(\"count\") > threshold_gim]\r\n",
    "    gimmicks = data.gimmick.unique().tolist()\r\n",
    "    for g in gim.gimmick.unique().tolist():\r\n",
    "        gimmicks.remove(g)\r\n",
    "    print(\"removed infrequently used gimmicks: \" + str(gimmicks))\r\n",
    "else:\r\n",
    "    print(\"no gimmicks this season :(\")"
   ],
   "outputs": [],
   "metadata": {
    "execution": {
     "iopub.execute_input": "2021-09-28T18:01:40.379135Z",
     "iopub.status.busy": "2021-09-28T18:01:40.379135Z",
     "iopub.status.idle": "2021-09-28T18:01:40.390143Z",
     "shell.execute_reply": "2021-09-28T18:01:40.390143Z"
    }
   }
  },
  {
   "cell_type": "code",
   "execution_count": null,
   "source": [
    "if should_draw_gimmicks:\r\n",
    "    f = plt.figure(figsize=(len(gim.gimmick.unique())/2.5,5))\r\n",
    "    f.suptitle(\"Number of people betting on each gimmick\")\r\n",
    "    sns.boxplot(x=\"gimmick\",y=\"num_bettors\",data=gim)\r\n",
    "    plt.xticks(rotation=90)\r\n",
    "    plt.show()"
   ],
   "outputs": [],
   "metadata": {
    "execution": {
     "iopub.execute_input": "2021-09-28T18:01:40.395149Z",
     "iopub.status.busy": "2021-09-28T18:01:40.393146Z",
     "iopub.status.idle": "2021-09-28T18:01:41.042736Z",
     "shell.execute_reply": "2021-09-28T18:01:41.042736Z"
    }
   }
  },
  {
   "cell_type": "code",
   "execution_count": null,
   "source": [
    "if should_draw_gimmicks:\r\n",
    "    f = plt.figure(figsize=(len(gim.gimmick.unique())/2.5,5))\r\n",
    "    f.suptitle(\"Average Amount bet on each gimmick\")\r\n",
    "    ax = sns.boxplot(x=gim.gimmick, y=gim.average_bet)\r\n",
    "    ax.set(yscale=\"log\", ylabel=\"Average Amount bet (logarithmic)\")\r\n",
    "    plt.xticks(rotation=90)\r\n",
    "    plt.show()"
   ],
   "outputs": [],
   "metadata": {
    "execution": {
     "iopub.execute_input": "2021-09-28T18:01:41.046740Z",
     "iopub.status.busy": "2021-09-28T18:01:41.046740Z",
     "iopub.status.idle": "2021-09-28T18:01:41.960570Z",
     "shell.execute_reply": "2021-09-28T18:01:41.960570Z"
    },
    "scrolled": false
   }
  },
  {
   "cell_type": "markdown",
   "source": [
    "# Switching"
   ],
   "metadata": {}
  },
  {
   "cell_type": "code",
   "execution_count": null,
   "source": [
    "sns.boxplot(x=data.switching,y=data.num_bettors)\r\n",
    "plt.show()"
   ],
   "outputs": [],
   "metadata": {
    "execution": {
     "iopub.execute_input": "2021-09-28T18:01:41.964575Z",
     "iopub.status.busy": "2021-09-28T18:01:41.964575Z",
     "iopub.status.idle": "2021-09-28T18:01:42.070671Z",
     "shell.execute_reply": "2021-09-28T18:01:42.070671Z"
    }
   }
  },
  {
   "cell_type": "code",
   "execution_count": null,
   "source": [
    "ax = sns.boxplot(x=data.switching,y=data.average_bet)\r\n",
    "ax.set(yscale=\"log\", ylabel=\"Average bet (logarithmic)\")\r\n",
    "plt.show()"
   ],
   "outputs": [],
   "metadata": {
    "execution": {
     "iopub.execute_input": "2021-09-28T18:01:42.075676Z",
     "iopub.status.busy": "2021-09-28T18:01:42.074676Z",
     "iopub.status.idle": "2021-09-28T18:01:42.354929Z",
     "shell.execute_reply": "2021-09-28T18:01:42.354929Z"
    }
   }
  },
  {
   "cell_type": "markdown",
   "source": [
    "# Odds vs winner\n",
    "lower odds(<1) indicate more people bet on team 0 (probably red?), while higher(>1) odds indicate more people bet on team 1 (probably blue) "
   ],
   "metadata": {}
  },
  {
   "cell_type": "code",
   "execution_count": null,
   "source": [
    "# remove entries where bets are all on 1 team\r\n",
    "nonzero_bets = nonzero_bets[nonzero_bets.odds > 0.00001]\r\n",
    "\r\n",
    "auto_matches = nonzero_bets[nonzero_bets.custom == False]\r\n",
    "bid_matches = nonzero_bets[nonzero_bets.custom == True]\r\n",
    "\r\n",
    "f, ax = plt.subplots(1, 2, figsize=(10,7),sharey=True)\r\n",
    "f.suptitle(\"Odds vs Winner\")\r\n",
    "ax[0].set(yscale=\"log\", title=\"random matches\")\r\n",
    "ax[1].set(title=\"bid matches\")\r\n",
    "\r\n",
    "sns.boxplot(x=auto_matches.result,y=auto_matches.odds, ax=ax[0])\r\n",
    "sns.boxplot(x=bid_matches.result,y=bid_matches.odds)\r\n",
    "\r\n",
    "plt.show()"
   ],
   "outputs": [],
   "metadata": {
    "execution": {
     "iopub.execute_input": "2021-09-28T18:01:42.359934Z",
     "iopub.status.busy": "2021-09-28T18:01:42.358934Z",
     "iopub.status.idle": "2021-09-28T18:01:42.626176Z",
     "shell.execute_reply": "2021-09-28T18:01:42.626176Z"
    },
    "scrolled": false
   }
  },
  {
   "cell_type": "markdown",
   "source": [
    "# Bet bonus"
   ],
   "metadata": {}
  },
  {
   "cell_type": "code",
   "execution_count": null,
   "source": [
    "if should_draw_bonus:\r\n",
    "    should_draw_random_graph = auto_matches.bet_bonus_amount.mean() > 0\r\n",
    "    should_draw_custom_graph = bid_matches.bet_bonus_amount.mean() > 0\r\n",
    "    graphs_to_draw = should_draw_random_graph + should_draw_custom_graph\r\n",
    "    if graphs_to_draw > 0:\r\n",
    "        i = 0\r\n",
    "\r\n",
    "        f, ax = plt.subplots(graphs_to_draw, 1, figsize=(10,7),sharey=True)\r\n",
    "        f.suptitle(\"Pokeyen injected from bet bonus\")\r\n",
    "\r\n",
    "        if should_draw_random_graph:\r\n",
    "            if graphs_to_draw > 1:\r\n",
    "                ax[i].set(yscale=\"log\", title=\"random matches\")\r\n",
    "                sns.regplot(x=auto_matches.index,y=auto_matches.bet_bonus_amount, ax=ax[i])\r\n",
    "                ax[i].set(ylabel=\"Pokeyen gained from bet bonus\")\r\n",
    "                i+=1\r\n",
    "            else:\r\n",
    "                ax.set(yscale=\"log\", title=\"random matches\")\r\n",
    "                sns.regplot(x=auto_matches.index,y=auto_matches.bet_bonus_amount, ax=ax)\r\n",
    "                ax.set(ylabel=\"Pokeyen gained from bet bonus\")\r\n",
    "        else:\r\n",
    "            print(\"random matches had no bet bonus, skipping drawing graph\")\r\n",
    "\r\n",
    "        if should_draw_custom_graph:\r\n",
    "            if graphs_to_draw > 1:\r\n",
    "                ax[i].set(yscale=\"log\", title=\"bid matches\")\r\n",
    "                sns.regplot(x=bid_matches.index,y=bid_matches.bet_bonus_amount, ax=ax[i])\r\n",
    "                ax[i].set(ylabel=\"Pokeyen gained from bet bonus\")\r\n",
    "            else:\r\n",
    "                ax.set(yscale=\"log\", title=\"bid matches\")\r\n",
    "                sns.regplot(x=bid_matches.index,y=bid_matches.bet_bonus_amount, ax=ax)\r\n",
    "                ax.set(ylabel=\"Pokeyen gained from bet bonus\")\r\n",
    "        else:\r\n",
    "            print(\"bid matches had no bet bonus, skipping drawing graph\")\r\n",
    "\r\n",
    "        plt.show()"
   ],
   "outputs": [],
   "metadata": {
    "execution": {
     "iopub.execute_input": "2021-09-28T18:01:42.633182Z",
     "iopub.status.busy": "2021-09-28T18:01:42.633182Z",
     "iopub.status.idle": "2021-09-28T18:01:42.642190Z",
     "shell.execute_reply": "2021-09-28T18:01:42.642190Z"
    },
    "scrolled": false
   }
  },
  {
   "cell_type": "markdown",
   "source": [
    "# Match predictability"
   ],
   "metadata": {}
  },
  {
   "cell_type": "code",
   "execution_count": null,
   "source": [
    "if should_draw_metagames:\r\n",
    "    f = plt.figure(figsize=(len(meta.metagame.unique())/2,5))\r\n",
    "    f.suptitle(\"Winning odds on each metagame\")\r\n",
    "    ax = sns.boxplot(x=meta.metagame,y=meta.winner_odds, hue=meta.custom)\r\n",
    "    ax.set(ylabel=\"the winning team's odds\", ylim=(0,10))\r\n",
    "    plt.xticks(rotation=90)\r\n",
    "    plt.show()"
   ],
   "outputs": [],
   "metadata": {
    "execution": {
     "iopub.execute_input": "2021-09-28T18:01:42.648196Z",
     "iopub.status.busy": "2021-09-28T18:01:42.646194Z",
     "iopub.status.idle": "2021-09-28T18:01:43.388869Z",
     "shell.execute_reply": "2021-09-28T18:01:43.388869Z"
    }
   }
  },
  {
   "cell_type": "code",
   "execution_count": null,
   "source": [
    "if should_draw_gimmicks:\r\n",
    "    f = plt.figure(figsize=(len(gim.gimmick.unique())/2.5,5))\r\n",
    "    f.suptitle(\"Winning odds on each gimmick\")\r\n",
    "    ax = sns.boxplot(x=gim.gimmick,y=gim.winner_odds, hue=gim.custom)\r\n",
    "    ax.set(ylabel=\"the winning team's odds\", ylim=(0,10))\r\n",
    "    plt.xticks(rotation=90)\r\n",
    "    plt.show()"
   ],
   "outputs": [],
   "metadata": {
    "execution": {
     "iopub.execute_input": "2021-09-28T18:01:43.394875Z",
     "iopub.status.busy": "2021-09-28T18:01:43.392873Z",
     "iopub.status.idle": "2021-09-28T18:01:45.128229Z",
     "shell.execute_reply": "2021-09-28T18:01:45.127229Z"
    }
   }
  },
  {
   "cell_type": "markdown",
   "source": [
    "# Bet Rankings"
   ],
   "metadata": {}
  },
  {
   "cell_type": "code",
   "execution_count": null,
   "source": [
    "season = %SEASON%\r\n",
    "rankings_collection = db.pokeyen_bet_rankings.find({\"season\": season}).sort(\"_id\", 1)\r\n",
    "id_to_name_csv = \"%CSVPATH%\"\r\n",
    "\r\n",
    "id_to_name_dict: dict\r\n",
    "with open(id_to_name_csv, mode=\"r\") as infile:\r\n",
    "    reader = csv.reader(infile)\r\n",
    "    id_to_name_dict = {rows[0]: rows[1] for rows in reader}\r\n",
    "    \r\n",
    "ranking = []\r\n",
    "for i, a in enumerate(rankings_collection):\r\n",
    "    for b in a[\"ranking\"]:\r\n",
    "        ranking.append([i,b[0],  id_to_name_dict[b[1]], b[2]])\r\n",
    "        \r\n",
    "rankings = pd.DataFrame(ranking, columns=[\"match\", \"rank\", \"user_id\", \"pokeyen\"])"
   ],
   "outputs": [],
   "metadata": {}
  },
  {
   "cell_type": "code",
   "execution_count": null,
   "source": [
    "f = plt.figure(figsize=(15,10))\r\n",
    "f.suptitle(\"Total pokeyen in economy\")\r\n",
    "total_yen = []\r\n",
    "for match in rankings.match.unique():\r\n",
    "    total_yen.append(rankings[rankings.match == match].pokeyen.sum())\r\n",
    "ax = sns.lineplot(data=total_yen)\r\n",
    "plt.show()"
   ],
   "outputs": [],
   "metadata": {}
  },
  {
   "cell_type": "code",
   "execution_count": null,
   "source": [
    "f = plt.figure(figsize=(15,10))\r\n",
    "f.suptitle(\"Average pokeyen per user\")\r\n",
    "ax = sns.lineplot(x=rankings.match, y=rankings.pokeyen)\r\n",
    "plt.show()"
   ],
   "outputs": [],
   "metadata": {}
  },
  {
   "cell_type": "code",
   "execution_count": null,
   "source": [
    "f = plt.figure(figsize=(15,10))\r\n",
    "f.suptitle(\"Pokeyen owned by rank 1\")\r\n",
    "leader_yen = []\r\n",
    "for match in rankings.match.unique():\r\n",
    "    leader_yen.append(rankings[rankings.match == match].pokeyen.max())\r\n",
    "ax = sns.lineplot(data=leader_yen)\r\n",
    "plt.show()"
   ],
   "outputs": [],
   "metadata": {}
  },
  {
   "cell_type": "code",
   "execution_count": null,
   "source": [
    "last_match = rankings[rankings.match == rankings.match.max()]\r\n",
    "leader_ids = last_match.sort_values(\"pokeyen\").tail(5).user_id.unique()\r\n",
    "\r\n",
    "f = plt.figure(figsize=(15,10))\r\n",
    "f.suptitle(\"Pokeyen of the final top 5\")\r\n",
    "top5 = rankings[rankings.user_id.isin(leader_ids)]\r\n",
    "\r\n",
    "ax = sns.lineplot(x=top5.match, y=top5.pokeyen, hue=top5.user_id)\r\n",
    "plt.show()"
   ],
   "outputs": [],
   "metadata": {}
  }
 ],
 "metadata": {
  "kernelspec": {
   "display_name": "Python 3 (ipykernel)",
   "language": "python",
   "name": "python3"
  },
  "language_info": {
   "codemirror_mode": {
    "name": "ipython",
    "version": 3
   },
   "file_extension": ".py",
   "mimetype": "text/x-python",
   "name": "python",
   "nbconvert_exporter": "python",
   "pygments_lexer": "ipython3",
   "version": "3.9.7"
  }
 },
 "nbformat": 4,
 "nbformat_minor": 5
}